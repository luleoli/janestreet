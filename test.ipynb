{
 "cells": [
  {
   "cell_type": "markdown",
   "metadata": {},
   "source": [
    "## TODO\n",
    "\n",
    "3 - Mutual information / Information value / Information gain\n",
    "2 - Combination of especific variables [category x cat, float x float, cat x float]  \n",
    "4 - First algorithms\n",
    "\n",
    "4 - First eda template\n"
   ]
  },
  {
   "cell_type": "markdown",
   "metadata": {},
   "source": [
    "### Import Data\n"
   ]
  },
  {
   "cell_type": "code",
   "execution_count": 10,
   "metadata": {},
   "outputs": [],
   "source": [
    "import importlib\n",
    "import utils\n",
    "importlib.reload(utils)\n",
    "\n",
    "import numpy as np\n",
    "import pandas as pd\n",
    "\n",
    "from utils import SandEDA\n",
    "\n",
    "df = pd.read_csv(\"./database/UCI_Credit_Card.csv\")\n",
    "\n",
    "# Define the specific dates range\n",
    "start_date = \"2023-06-01\"\n",
    "end_date = \"2023-09-30\"\n",
    "\n",
    "safra = []\n",
    "# Generate a random date within the specified range\n",
    "for i in range(df.shape[0]):\n",
    "    safra.append(\n",
    "        pd.to_datetime(\n",
    "            np.random.choice(pd.date_range(start=start_date, end=end_date))\n",
    "        ).strftime(\"%Y%m\")\n",
    "    )\n",
    "\n",
    "df[\"safra\"] = safra\n",
    "df.rename(\n",
    "    columns={\n",
    "        \"default.payment.next.month\": \"default\",\n",
    "    },\n",
    "    inplace=True,\n",
    ")\n"
   ]
  },
  {
   "cell_type": "markdown",
   "metadata": {},
   "source": [
    "### Run tests\n"
   ]
  },
  {
   "cell_type": "code",
   "execution_count": 11,
   "metadata": {},
   "outputs": [],
   "source": [
    "sandeda = SandEDA(df, \"UCI_Credit_Card\", \"default\", \"safra\")"
   ]
  },
  {
   "cell_type": "code",
   "execution_count": 12,
   "metadata": {},
   "outputs": [],
   "source": [
    "features_imp = sandeda.promising_features()"
   ]
  },
  {
   "cell_type": "code",
   "execution_count": 14,
   "metadata": {},
   "outputs": [
    {
     "data": {
      "text/plain": [
       "{'iv': {'Information Value': {'PAY_0': 0.9154404849354484,\n",
       "   'PAY_5': 0.4780664963105562,\n",
       "   'PAY_4': 0.4760044819497969,\n",
       "   'PAY_3': 0.4753375502313929,\n",
       "   'PAY_6': 0.43484704428825977,\n",
       "   'SEX': 0.021887679444375738,\n",
       "   'MARRIAGE': 0.008913611231162374,\n",
       "   'LIMIT_BAL': 0.008798538003136666,\n",
       "   'BILL_AMT1': 0.0026887843257444727,\n",
       "   'ID': 0.0022229746377720435,\n",
       "   'BILL_AMT6': 0.0021850120688350003,\n",
       "   'BILL_AMT2': 0.0020474821698487737,\n",
       "   'BILL_AMT4': 0.0019324479766264502,\n",
       "   'BILL_AMT3': 0.0012416010957331872,\n",
       "   'safra': 0.00026211297743918786,\n",
       "   'EDUCATION': 0.0,\n",
       "   'PAY_2': 0.0,\n",
       "   'BILL_AMT5': -0.0011709607348114222,\n",
       "   'AGE': -0.002528214011136787,\n",
       "   'PAY_AMT2': -0.05396399221074663,\n",
       "   'PAY_AMT3': -0.056100208259427076,\n",
       "   'PAY_AMT1': -0.060440890708068004,\n",
       "   'PAY_AMT6': -0.09288783632697756,\n",
       "   'PAY_AMT5': -0.09308813079671893,\n",
       "   'PAY_AMT4': -0.10102398559129239}},\n",
       " 'mi': {'PAY_0': 0.07613288672742802,\n",
       "  'PAY_2': 0.051805873747876374,\n",
       "  'PAY_3': 0.04166071427891249,\n",
       "  'PAY_4': 0.033156642512033985,\n",
       "  'PAY_5': 0.030914875780279072,\n",
       "  'PAY_6': 0.028780723693932586,\n",
       "  'PAY_AMT1': 0.020166104018231934,\n",
       "  'PAY_AMT3': 0.01866731700681501,\n",
       "  'PAY_AMT2': 0.018216592303093027,\n",
       "  'LIMIT_BAL': 0.017491065499205538,\n",
       "  'PAY_AMT5': 0.014070593939242482,\n",
       "  'PAY_AMT4': 0.013265272775793813,\n",
       "  'BILL_AMT1': 0.011781048515325132,\n",
       "  'PAY_AMT6': 0.011717808813093589,\n",
       "  'BILL_AMT6': 0.007740114136686627,\n",
       "  'BILL_AMT3': 0.0068769500355165825,\n",
       "  'BILL_AMT5': 0.006087904621514317,\n",
       "  'BILL_AMT2': 0.005795875488266766,\n",
       "  'SEX': 0.005487960572728712,\n",
       "  'ID': 0.005131757394998937,\n",
       "  'BILL_AMT4': 0.003499821001761383,\n",
       "  'EDUCATION': 0.0028980812269716605,\n",
       "  'AGE': 0.0025549347288755797,\n",
       "  'safra': 0.0020345411613600373,\n",
       "  'MARRIAGE': 0.0}}"
      ]
     },
     "execution_count": 14,
     "metadata": {},
     "output_type": "execute_result"
    }
   ],
   "source": [
    "features_imp\n"
   ]
  },
  {
   "cell_type": "code",
   "execution_count": 9,
   "metadata": {},
   "outputs": [],
   "source": [
    "res_dict = sandeda.calc_general()"
   ]
  },
  {
   "cell_type": "code",
   "execution_count": 10,
   "metadata": {},
   "outputs": [],
   "source": [
    "vars_time_dict = sandeda.variables_espec_time()"
   ]
  },
  {
   "cell_type": "code",
   "execution_count": 11,
   "metadata": {},
   "outputs": [],
   "source": [
    "vars_dict = sandeda.variables_espec()"
   ]
  },
  {
   "cell_type": "markdown",
   "metadata": {},
   "source": [
    "##### Visualization prototypes of the important features"
   ]
  },
  {
   "cell_type": "code",
   "execution_count": 25,
   "metadata": {},
   "outputs": [
    {
     "data": {
      "image/png": "[encoded data removed]",
      "text/plain": [
       "<Figure size 1000x600 with 1 Axes>"
      ]
     },
     "metadata": {},
     "output_type": "display_data"
    }
   ],
   "source": [
    "import matplotlib.pyplot as plt\n",
    "\n",
    "def plot_decile_target_mean(df, variable, target):\n",
    "    # Create deciles\n",
    "    if df[variable].dtype == 'object' or df[variable].nunique() < 20:\n",
    "        df[variable] = df[variable].astype('category').cat.codes\n",
    "        cat_codes = df.groupby(variable)[target].mean().sort_values().index\n",
    "        cat_mapping = {cat: idx for idx, cat in enumerate(cat_codes)}\n",
    "        df[variable] = df[variable].map(cat_mapping)\n",
    "        df['decile'] = df[variable]def plot_decile_target_mean(df, variable, target):\n",
    "    # Create deciles\n",
    "    if df[variable].dtype == 'object' or df[variable].nunique() < 20:\n",
    "        df[variable] = df[variable].astype('category').cat.codes\n",
    "        cat_codes = df.groupby(variable)[target].mean().sort_values().index\n",
    "        cat_mapping = {cat: idx for idx, cat in enumerate(cat_codes)}\n",
    "        df[variable] = df[variable].map(cat_mapping)\n",
    "        df['decile'] = df[variable]\n",
    "    else:\n",
    "        df['decile'] = pd.qcut(df[variable], 10, labels=False)\n",
    "    \n",
    "    # Calculate the mean of the target variable for each decile\n",
    "    decile_means = df.groupby('decile')[target].mean()\n",
    "    \n",
    "    # Plot the decile means\n",
    "    plt.figure(figsize=(10, 6))\n",
    "    decile_means.plot(kind='bar')\n",
    "    plt.xlabel('Decile')\n",
    "    plt.ylabel(f'Mean {target}')\n",
    "    plt.title(f'Mean {target} by Decile of {variable}')\n",
    "    plt.show()\n",
    "\n",
    "# Example usage\n",
    "plot_decile_target_mean(df, 'PAY_0', 'default')\n",
    "    # Calculate the mean of the target variable for each decile\n",
    "    decile_means = df.groupby('decile')[target].mean()\n",
    "    \n",
    "    # Plot the decile means\n",
    "    plt.figure(figsize=(10, 6))\n",
    "    decile_means.plot(kind='bar')\n",
    "    plt.xlabel('Decile')\n",
    "    plt.ylabel(f'Mean {target}')\n",
    "    plt.title(f'Mean {target} by Decile of {variable}')\n",
    "    plt.show()\n",
    "\n",
    "# Example usage\n",
    "plot_decile_target_mean(df, 'PAY_0', 'default')"
   ]
  },
  {
   "cell_type": "markdown",
   "metadata": {},
   "source": []
  },
  {
   "cell_type": "code",
   "execution_count": null,
   "metadata": {},
   "outputs": [
    {
     "name": "stdout",
     "output_type": "stream",
     "text": [
      "safra\n",
      "202306    0.754469\n",
      "202307    0.750202\n",
      "202308    0.764251\n",
      "202309    0.746327\n",
      "dtype: float64\n"
     ]
    }
   ],
   "source": [
    "from scipy.stats import entropy\n",
    "\n",
    "# Calculate the entropy for each group\n",
    "grouped = (\n",
    "    df.groupby(\"safra\")[\"MARRIAGE\"].value_counts(normalize=True).unstack(fill_value=0)\n",
    ")\n",
    "entropy_values = grouped.apply(entropy, axis=1)\n",
    "\n",
    "print(entropy_values)"
   ]
  },
  {
   "cell_type": "code",
   "execution_count": null,
   "metadata": {
    "vscode": {
     "languageId": "javascript"
    }
   },
   "outputs": [],
   "source": []
  }
 ],
 "metadata": {
  "kernelspec": {
   "display_name": ".venv",
   "language": "python",
   "name": "python3"
  },
  "language_info": {
   "codemirror_mode": {
    "name": "ipython",
    "version": 3
   },
   "file_extension": ".py",
   "mimetype": "text/x-python",
   "name": "python",
   "nbconvert_exporter": "python",
   "pygments_lexer": "ipython3",
   "version": "3.12.3"
  }
 },
 "nbformat": 4,
 "nbformat_minor": 2
}
