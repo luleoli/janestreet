{
 "cells": [
  {
   "cell_type": "code",
   "execution_count": 20,
   "metadata": {},
   "outputs": [],
   "source": [
    "import pandas as pd\n",
    "import numpy as np\n",
    "\n",
    "df = pd.read_csv('./database/UCI_Credit_Card.csv')"
   ]
  },
  {
   "cell_type": "code",
   "execution_count": null,
   "metadata": {},
   "outputs": [],
   "source": [
    "class SandEDA():\n",
    "    \"\"\"\n",
    "    A class used to perform exploratory data analysis (EDA) on a given dataset.\n",
    "    Attributes\n",
    "    ----------\n",
    "    df : pandas.DataFrame\n",
    "        The dataset to be analyzed.\n",
    "    df_name : str\n",
    "        The name of the dataset.\n",
    "    target_name : str\n",
    "        The name of the target variable in the dataset.\n",
    "    target_type : str\n",
    "        The data type of the target variable.\n",
    "    Methods\n",
    "    -------\n",
    "    dataset_general():\n",
    "        Provides general information about the dataset.\n",
    "    variables_general():\n",
    "        Provides general information about the variables in the dataset.\n",
    "    target_general():\n",
    "        Provides general information about the target variable.\n",
    "    \"\"\"\n",
    "    \"\"\"\n",
    "    Parameters\n",
    "    ----------\n",
    "    df : pandas.DataFrame\n",
    "        The dataset to be analyzed.\n",
    "    df_name : str\n",
    "        The name of the dataset.\n",
    "    target_name : str\n",
    "        The name of the target variable in the dataset.\n",
    "    \"\"\"\n",
    "    \n",
    "    def __init__(self, df, df_name, target_name):\n",
    "        self.df = df\n",
    "        self.df_name = df_name\n",
    "        self.target_name = target_name\n",
    "        self.target_type = df[target_name].dtype.astype(str)\n",
    "\n",
    "    def dataset_general(self):\n",
    "        return \n",
    "\n",
    "    def variables_general(self):\n",
    "        return \n",
    "\n",
    "    def target_general(self):\n",
    "        return "
   ]
  },
  {
   "cell_type": "code",
   "execution_count": null,
   "metadata": {},
   "outputs": [],
   "source": [
    "df_data = {\n",
    "        'dataset_general' : {\n",
    "            'number_of_rows': df.shape[0],\n",
    "            'number_of_columns': df.shape[1],\n",
    "            'number_of_cells': df.size,\n",
    "            'number_of_missing': int(df.isnull().sum().sum()),\n",
    "            'number_of_unique_types': int(df.dtypes.value_counts().count()),\n",
    "            'number_of_zeros': int((df == 0).sum().sum()),\n",
    "            'memory_usage_in_megabytes': float(round(df.memory_usage().sum() / 1024 ** 2, 2))},\n",
    "        'variables_general' : {\n",
    "            'variables_names': df.columns.tolist(),\n",
    "            'number_of_variables_per_type': df.dtypes.astype(str).value_counts().to_dict(),\n",
    "            'number_of_missing_per_variable': df.isnull().sum().to_dict(),\n",
    "            'number_of_zero_per_variable': (df == 0).sum().to_dict()},\n",
    "        'target_general': {\n",
    "            'target_name': target_name,\n",
    "            'number_of_unique_values': int(df[target_name].nunique()),\n",
    "            'number_of_missing': int(df[target_name].isnull().sum()),\n",
    "            'number_of_zero': int((df[target_name] == 0).sum()),\n",
    "            'target_type': df[target_name].dtype},\n",
    "        'dataset_time' : {\n",
    "        },\n",
    "        'variable_time': {\n",
    "        },\n",
    "        'target_time': {\n",
    "        }\n",
    "    }"
   ]
  },
  {
   "cell_type": "code",
   "execution_count": null,
   "metadata": {
    "vscode": {
     "languageId": "javascript"
    }
   },
   "outputs": [
    {
     "data": {
      "text/plain": [
       "np.int64(2)"
      ]
     },
     "execution_count": 38,
     "metadata": {},
     "output_type": "execute_result"
    }
   ],
   "source": [
    "df_data['dataset_stats']['unique_data_types'] = int(df.dtypes.value_counts().count())"
   ]
  },
  {
   "cell_type": "code",
   "execution_count": 29,
   "metadata": {
    "vscode": {
     "languageId": "javascript"
    }
   },
   "outputs": [
    {
     "data": {
      "text/plain": [
       "{'Dataset Statistics': {'Number of rows': 30000,\n",
       "  'Number of columns': 25,\n",
       "  'Missing values': 0,\n",
       "  'Number of classes': 2,\n",
       "  'Variable types': {dtype('float64'): 13, dtype('int64'): 12},\n",
       "  'Missing cells per column': {'ID': 0,\n",
       "   'LIMIT_BAL': 0,\n",
       "   'SEX': 0,\n",
       "   'EDUCATION': 0,\n",
       "   'MARRIAGE': 0,\n",
       "   'AGE': 0,\n",
       "   'PAY_0': 0,\n",
       "   'PAY_2': 0,\n",
       "   'PAY_3': 0,\n",
       "   'PAY_4': 0,\n",
       "   'PAY_5': 0,\n",
       "   'PAY_6': 0,\n",
       "   'BILL_AMT1': 0,\n",
       "   'BILL_AMT2': 0,\n",
       "   'BILL_AMT3': 0,\n",
       "   'BILL_AMT4': 0,\n",
       "   'BILL_AMT5': 0,\n",
       "   'BILL_AMT6': 0,\n",
       "   'PAY_AMT1': 0,\n",
       "   'PAY_AMT2': 0,\n",
       "   'PAY_AMT3': 0,\n",
       "   'PAY_AMT4': 0,\n",
       "   'PAY_AMT5': 0,\n",
       "   'PAY_AMT6': 0,\n",
       "   'default.payment.next.month': 0},\n",
       "  'Data types': {'ID': dtype('int64'),\n",
       "   'LIMIT_BAL': dtype('float64'),\n",
       "   'SEX': dtype('int64'),\n",
       "   'EDUCATION': dtype('int64'),\n",
       "   'MARRIAGE': dtype('int64'),\n",
       "   'AGE': dtype('int64'),\n",
       "   'PAY_0': dtype('int64'),\n",
       "   'PAY_2': dtype('int64'),\n",
       "   'PAY_3': dtype('int64'),\n",
       "   'PAY_4': dtype('int64'),\n",
       "   'PAY_5': dtype('int64'),\n",
       "   'PAY_6': dtype('int64'),\n",
       "   'BILL_AMT1': dtype('float64'),\n",
       "   'BILL_AMT2': dtype('float64'),\n",
       "   'BILL_AMT3': dtype('float64'),\n",
       "   'BILL_AMT4': dtype('float64'),\n",
       "   'BILL_AMT5': dtype('float64'),\n",
       "   'BILL_AMT6': dtype('float64'),\n",
       "   'PAY_AMT1': dtype('float64'),\n",
       "   'PAY_AMT2': dtype('float64'),\n",
       "   'PAY_AMT3': dtype('float64'),\n",
       "   'PAY_AMT4': dtype('float64'),\n",
       "   'PAY_AMT5': dtype('float64'),\n",
       "   'PAY_AMT6': dtype('float64'),\n",
       "   'default.payment.next.month': dtype('int64')},\n",
       "  'Number of Unique Values': {'ID': 30000,\n",
       "   'LIMIT_BAL': 81,\n",
       "   'SEX': 2,\n",
       "   'EDUCATION': 7,\n",
       "   'MARRIAGE': 4,\n",
       "   'AGE': 56,\n",
       "   'PAY_0': 11,\n",
       "   'PAY_2': 11,\n",
       "   'PAY_3': 11,\n",
       "   'PAY_4': 11,\n",
       "   'PAY_5': 10,\n",
       "   'PAY_6': 10,\n",
       "   'BILL_AMT1': 22723,\n",
       "   'BILL_AMT2': 22346,\n",
       "   'BILL_AMT3': 22026,\n",
       "   'BILL_AMT4': 21548,\n",
       "   'BILL_AMT5': 21010,\n",
       "   'BILL_AMT6': 20604,\n",
       "   'PAY_AMT1': 7943,\n",
       "   'PAY_AMT2': 7899,\n",
       "   'PAY_AMT3': 7518,\n",
       "   'PAY_AMT4': 6937,\n",
       "   'PAY_AMT5': 6897,\n",
       "   'PAY_AMT6': 6939,\n",
       "   'default.payment.next.month': 2},\n",
       "  'Number of Zeros': {'ID': 0,\n",
       "   'LIMIT_BAL': 0,\n",
       "   'SEX': 0,\n",
       "   'EDUCATION': 14,\n",
       "   'MARRIAGE': 54,\n",
       "   'AGE': 0,\n",
       "   'PAY_0': 14737,\n",
       "   'PAY_2': 15730,\n",
       "   'PAY_3': 15764,\n",
       "   'PAY_4': 16455,\n",
       "   'PAY_5': 16947,\n",
       "   'PAY_6': 16286,\n",
       "   'BILL_AMT1': 2008,\n",
       "   'BILL_AMT2': 2506,\n",
       "   'BILL_AMT3': 2870,\n",
       "   'BILL_AMT4': 3195,\n",
       "   'BILL_AMT5': 3506,\n",
       "   'BILL_AMT6': 4020,\n",
       "   'PAY_AMT1': 5249,\n",
       "   'PAY_AMT2': 5396,\n",
       "   'PAY_AMT3': 5968,\n",
       "   'PAY_AMT4': 6408,\n",
       "   'PAY_AMT5': 6703,\n",
       "   'PAY_AMT6': 7173,\n",
       "   'default.payment.next.month': 23364},\n",
       "  'Total Size in Memory (MB)': np.float64(5.722171783447266)}}"
      ]
     },
     "execution_count": 29,
     "metadata": {},
     "output_type": "execute_result"
    }
   ],
   "source": [
    "data_dict"
   ]
  },
  {
   "cell_type": "code",
   "execution_count": 19,
   "metadata": {
    "vscode": {
     "languageId": "javascript"
    }
   },
   "outputs": [
    {
     "data": {
      "text/html": [
       "<div>\n",
       "<style scoped>\n",
       "    .dataframe tbody tr th:only-of-type {\n",
       "        vertical-align: middle;\n",
       "    }\n",
       "\n",
       "    .dataframe tbody tr th {\n",
       "        vertical-align: top;\n",
       "    }\n",
       "\n",
       "    .dataframe thead th {\n",
       "        text-align: right;\n",
       "    }\n",
       "</style>\n",
       "<table border=\"1\" class=\"dataframe\">\n",
       "  <thead>\n",
       "    <tr style=\"text-align: right;\">\n",
       "      <th></th>\n",
       "      <th>ID</th>\n",
       "      <th>LIMIT_BAL</th>\n",
       "      <th>SEX</th>\n",
       "      <th>EDUCATION</th>\n",
       "      <th>MARRIAGE</th>\n",
       "      <th>AGE</th>\n",
       "      <th>PAY_0</th>\n",
       "      <th>PAY_2</th>\n",
       "      <th>PAY_3</th>\n",
       "      <th>PAY_4</th>\n",
       "      <th>...</th>\n",
       "      <th>BILL_AMT4</th>\n",
       "      <th>BILL_AMT5</th>\n",
       "      <th>BILL_AMT6</th>\n",
       "      <th>PAY_AMT1</th>\n",
       "      <th>PAY_AMT2</th>\n",
       "      <th>PAY_AMT3</th>\n",
       "      <th>PAY_AMT4</th>\n",
       "      <th>PAY_AMT5</th>\n",
       "      <th>PAY_AMT6</th>\n",
       "      <th>default.payment.next.month</th>\n",
       "    </tr>\n",
       "  </thead>\n",
       "  <tbody>\n",
       "    <tr>\n",
       "      <th>0</th>\n",
       "      <td>1</td>\n",
       "      <td>20000.0</td>\n",
       "      <td>2</td>\n",
       "      <td>2</td>\n",
       "      <td>1</td>\n",
       "      <td>24</td>\n",
       "      <td>2</td>\n",
       "      <td>2</td>\n",
       "      <td>-1</td>\n",
       "      <td>-1</td>\n",
       "      <td>...</td>\n",
       "      <td>0.0</td>\n",
       "      <td>0.0</td>\n",
       "      <td>0.0</td>\n",
       "      <td>0.0</td>\n",
       "      <td>689.0</td>\n",
       "      <td>0.0</td>\n",
       "      <td>0.0</td>\n",
       "      <td>0.0</td>\n",
       "      <td>0.0</td>\n",
       "      <td>1</td>\n",
       "    </tr>\n",
       "    <tr>\n",
       "      <th>1</th>\n",
       "      <td>2</td>\n",
       "      <td>120000.0</td>\n",
       "      <td>2</td>\n",
       "      <td>2</td>\n",
       "      <td>2</td>\n",
       "      <td>26</td>\n",
       "      <td>-1</td>\n",
       "      <td>2</td>\n",
       "      <td>0</td>\n",
       "      <td>0</td>\n",
       "      <td>...</td>\n",
       "      <td>3272.0</td>\n",
       "      <td>3455.0</td>\n",
       "      <td>3261.0</td>\n",
       "      <td>0.0</td>\n",
       "      <td>1000.0</td>\n",
       "      <td>1000.0</td>\n",
       "      <td>1000.0</td>\n",
       "      <td>0.0</td>\n",
       "      <td>2000.0</td>\n",
       "      <td>1</td>\n",
       "    </tr>\n",
       "    <tr>\n",
       "      <th>2</th>\n",
       "      <td>3</td>\n",
       "      <td>90000.0</td>\n",
       "      <td>2</td>\n",
       "      <td>2</td>\n",
       "      <td>2</td>\n",
       "      <td>34</td>\n",
       "      <td>0</td>\n",
       "      <td>0</td>\n",
       "      <td>0</td>\n",
       "      <td>0</td>\n",
       "      <td>...</td>\n",
       "      <td>14331.0</td>\n",
       "      <td>14948.0</td>\n",
       "      <td>15549.0</td>\n",
       "      <td>1518.0</td>\n",
       "      <td>1500.0</td>\n",
       "      <td>1000.0</td>\n",
       "      <td>1000.0</td>\n",
       "      <td>1000.0</td>\n",
       "      <td>5000.0</td>\n",
       "      <td>0</td>\n",
       "    </tr>\n",
       "    <tr>\n",
       "      <th>3</th>\n",
       "      <td>4</td>\n",
       "      <td>50000.0</td>\n",
       "      <td>2</td>\n",
       "      <td>2</td>\n",
       "      <td>1</td>\n",
       "      <td>37</td>\n",
       "      <td>0</td>\n",
       "      <td>0</td>\n",
       "      <td>0</td>\n",
       "      <td>0</td>\n",
       "      <td>...</td>\n",
       "      <td>28314.0</td>\n",
       "      <td>28959.0</td>\n",
       "      <td>29547.0</td>\n",
       "      <td>2000.0</td>\n",
       "      <td>2019.0</td>\n",
       "      <td>1200.0</td>\n",
       "      <td>1100.0</td>\n",
       "      <td>1069.0</td>\n",
       "      <td>1000.0</td>\n",
       "      <td>0</td>\n",
       "    </tr>\n",
       "    <tr>\n",
       "      <th>4</th>\n",
       "      <td>5</td>\n",
       "      <td>50000.0</td>\n",
       "      <td>1</td>\n",
       "      <td>2</td>\n",
       "      <td>1</td>\n",
       "      <td>57</td>\n",
       "      <td>-1</td>\n",
       "      <td>0</td>\n",
       "      <td>-1</td>\n",
       "      <td>0</td>\n",
       "      <td>...</td>\n",
       "      <td>20940.0</td>\n",
       "      <td>19146.0</td>\n",
       "      <td>19131.0</td>\n",
       "      <td>2000.0</td>\n",
       "      <td>36681.0</td>\n",
       "      <td>10000.0</td>\n",
       "      <td>9000.0</td>\n",
       "      <td>689.0</td>\n",
       "      <td>679.0</td>\n",
       "      <td>0</td>\n",
       "    </tr>\n",
       "  </tbody>\n",
       "</table>\n",
       "<p>5 rows × 25 columns</p>\n",
       "</div>"
      ],
      "text/plain": [
       "   ID  LIMIT_BAL  SEX  EDUCATION  MARRIAGE  AGE  PAY_0  PAY_2  PAY_3  PAY_4  \\\n",
       "0   1    20000.0    2          2         1   24      2      2     -1     -1   \n",
       "1   2   120000.0    2          2         2   26     -1      2      0      0   \n",
       "2   3    90000.0    2          2         2   34      0      0      0      0   \n",
       "3   4    50000.0    2          2         1   37      0      0      0      0   \n",
       "4   5    50000.0    1          2         1   57     -1      0     -1      0   \n",
       "\n",
       "   ...  BILL_AMT4  BILL_AMT5  BILL_AMT6  PAY_AMT1  PAY_AMT2  PAY_AMT3  \\\n",
       "0  ...        0.0        0.0        0.0       0.0     689.0       0.0   \n",
       "1  ...     3272.0     3455.0     3261.0       0.0    1000.0    1000.0   \n",
       "2  ...    14331.0    14948.0    15549.0    1518.0    1500.0    1000.0   \n",
       "3  ...    28314.0    28959.0    29547.0    2000.0    2019.0    1200.0   \n",
       "4  ...    20940.0    19146.0    19131.0    2000.0   36681.0   10000.0   \n",
       "\n",
       "   PAY_AMT4  PAY_AMT5  PAY_AMT6  default.payment.next.month  \n",
       "0       0.0       0.0       0.0                           1  \n",
       "1    1000.0       0.0    2000.0                           1  \n",
       "2    1000.0    1000.0    5000.0                           0  \n",
       "3    1100.0    1069.0    1000.0                           0  \n",
       "4    9000.0     689.0     679.0                           0  \n",
       "\n",
       "[5 rows x 25 columns]"
      ]
     },
     "execution_count": 19,
     "metadata": {},
     "output_type": "execute_result"
    }
   ],
   "source": [
    "df.head()"
   ]
  },
  {
   "cell_type": "code",
   "execution_count": 17,
   "metadata": {
    "vscode": {
     "languageId": "javascript"
    }
   },
   "outputs": [
    {
     "data": {
      "text/plain": [
       "30000"
      ]
     },
     "execution_count": 17,
     "metadata": {},
     "output_type": "execute_result"
    }
   ],
   "source": [
    "data_dict['Dataset Statistics']['Number of rows']"
   ]
  },
  {
   "cell_type": "code",
   "execution_count": 18,
   "metadata": {
    "vscode": {
     "languageId": "javascript"
    }
   },
   "outputs": [
    {
     "data": {
      "text/plain": [
       "{dtype('float64'): 13, dtype('int64'): 12}"
      ]
     },
     "execution_count": 18,
     "metadata": {},
     "output_type": "execute_result"
    }
   ],
   "source": [
    "data_dict['Dataset Statistics']['Variable types']"
   ]
  },
  {
   "cell_type": "code",
   "execution_count": null,
   "metadata": {
    "vscode": {
     "languageId": "javascript"
    }
   },
   "outputs": [],
   "source": []
  }
 ],
 "metadata": {
  "kernelspec": {
   "display_name": ".venv",
   "language": "python",
   "name": "python3"
  },
  "language_info": {
   "codemirror_mode": {
    "name": "ipython",
    "version": 3
   },
   "file_extension": ".py",
   "mimetype": "text/x-python",
   "name": "python",
   "nbconvert_exporter": "python",
   "pygments_lexer": "ipython3",
   "version": "3.11.9"
  }
 },
 "nbformat": 4,
 "nbformat_minor": 2
}
