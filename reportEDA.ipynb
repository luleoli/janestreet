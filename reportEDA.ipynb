{
 "cells": [
  {
   "cell_type": "code",
   "execution_count": 1,
   "metadata": {},
   "outputs": [],
   "source": [
    "import numpy as np\n",
    "import pandas as pd\n",
    "import altair as alt\n",
    "from jinja2 import Template\n",
    "\n",
    "\n",
    "from utils import SandEDA\n",
    "\n",
    "df = pd.read_csv(\"./database/Playground_Churn_Bank.csv\")\n",
    "\n",
    "del df['id']\n",
    "\n",
    "# Define the specific dates range\n",
    "start_date = \"2023-06-01\"\n",
    "end_date = \"2023-09-30\"\n",
    "\n",
    "safra = []\n",
    "# Generate a random date within the specified range\n",
    "for i in range(df.shape[0]):\n",
    "    safra.append(\n",
    "        pd.to_datetime(\n",
    "            np.random.choice(pd.date_range(start=start_date, end=end_date))\n",
    "        ).strftime(\"%Y%m\")\n",
    "    )\n",
    "\n",
    "df[\"safra\"] = safra"
   ]
  },
  {
   "cell_type": "code",
   "execution_count": 2,
   "metadata": {},
   "outputs": [],
   "source": [
    "sandeda = SandEDA(df, \"Exited\", \"safra\", \"CustomerId\")\n",
    "sandeda.report('CHURN_0_0_5')"
   ]
  },
  {
   "cell_type": "code",
   "execution_count": null,
   "metadata": {},
   "outputs": [],
   "source": []
  },
  {
   "cell_type": "markdown",
   "metadata": {},
   "source": [
    "## Running tests"
   ]
  },
  {
   "cell_type": "code",
   "execution_count": null,
   "metadata": {},
   "outputs": [],
   "source": []
  }
 ],
 "metadata": {
  "kernelspec": {
   "display_name": ".venv",
   "language": "python",
   "name": "python3"
  },
  "language_info": {
   "codemirror_mode": {
    "name": "ipython",
    "version": 3
   },
   "file_extension": ".py",
   "mimetype": "text/x-python",
   "name": "python",
   "nbconvert_exporter": "python",
   "pygments_lexer": "ipython3",
   "version": "3.12.3"
  }
 },
 "nbformat": 4,
 "nbformat_minor": 2
}
